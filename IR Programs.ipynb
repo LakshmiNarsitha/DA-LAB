{
 "cells": [
  {
   "cell_type": "code",
   "execution_count": 2,
   "id": "73521821",
   "metadata": {},
   "outputs": [
    {
     "name": "stdout",
     "output_type": "stream",
     "text": [
      "enter no of docs : 4\n",
      "enter path : s1.txt\n",
      "enter path : s2.txt\n",
      "enter path : s3.txt\n",
      "enter path : s4.txt\n",
      "['new home sales tap forecasts new july tap', 'home sales rise in july increase rise july home', 'increase in home sales july home in increase july sales', 'july new home sales rise increase home july tap']\n"
     ]
    }
   ],
   "source": [
    "n=int(input(\"enter no of docs : \"))\n",
    "s=[]\n",
    "for i in range(n):\n",
    "    l=open(input(\"enter path : \")).read()\n",
    "    s.append(l)\n",
    "print(s)"
   ]
  },
  {
   "cell_type": "code",
   "execution_count": 3,
   "id": "764c35eb",
   "metadata": {},
   "outputs": [
    {
     "name": "stdout",
     "output_type": "stream",
     "text": [
      "['new home sales tap forecasts new july tap', 'home sales rise in july increase rise july home', 'increase in home sales july home in increase july sales', 'july new home sales rise increase home july tap']\n"
     ]
    }
   ],
   "source": [
    "#removing punctuations\n",
    "punc=\"()-[]{}_!@#$%^&*<>.,;:\"\n",
    "for i in range(n):\n",
    "    for word in s[i]:\n",
    "        if word in punc:\n",
    "            s[i]=s[i].replace(word,\" \")\n",
    "            s[i]=s[i].replace(\"\\n\",\" \")\n",
    "            s[i]=s[i].lower()\n",
    "print(s)"
   ]
  },
  {
   "cell_type": "code",
   "execution_count": 4,
   "id": "a1456d9a",
   "metadata": {},
   "outputs": [
    {
     "name": "stderr",
     "output_type": "stream",
     "text": [
      "[nltk_data] Downloading package punkt to C:\\Users\\LAKSHMI\n",
      "[nltk_data]     NARSITHA\\AppData\\Roaming\\nltk_data...\n",
      "[nltk_data]   Package punkt is already up-to-date!\n",
      "[nltk_data] Downloading package stopwords to C:\\Users\\LAKSHMI\n",
      "[nltk_data]     NARSITHA\\AppData\\Roaming\\nltk_data...\n",
      "[nltk_data]   Package stopwords is already up-to-date!\n"
     ]
    },
    {
     "data": {
      "text/plain": [
       "True"
      ]
     },
     "execution_count": 4,
     "metadata": {},
     "output_type": "execute_result"
    }
   ],
   "source": [
    "import nltk\n",
    "from nltk.tokenize import word_tokenize\n",
    "from nltk.corpus import stopwords\n",
    "nltk.download(\"punkt\")\n",
    "nltk.download(\"stopwords\")"
   ]
  },
  {
   "cell_type": "code",
   "execution_count": 5,
   "id": "f8f7e642",
   "metadata": {},
   "outputs": [
    {
     "name": "stdout",
     "output_type": "stream",
     "text": [
      "[['new', 'home', 'sales', 'tap', 'forecasts', 'new', 'july', 'tap'], ['home', 'sales', 'rise', 'in', 'july', 'increase', 'rise', 'july', 'home'], ['increase', 'in', 'home', 'sales', 'july', 'home', 'in', 'increase', 'july', 'sales'], ['july', 'new', 'home', 'sales', 'rise', 'increase', 'home', 'july', 'tap']]\n"
     ]
    }
   ],
   "source": [
    "token=[]\n",
    "for i in s:\n",
    "    tk=word_tokenize(i)\n",
    "    token.append(tk)\n",
    "    \n",
    "res=[]\n",
    "for i in token:\n",
    "    for word in i:\n",
    "        if word not in stopwords.words(\"english\") and word not in res:\n",
    "            res.append(word)\n",
    "res.sort()          \n",
    "for k in range(len(s)):\n",
    "    s[k]=s[k].split(\" \")\n",
    "print(s)"
   ]
  },
  {
   "cell_type": "code",
   "execution_count": 6,
   "id": "9dd1510f",
   "metadata": {},
   "outputs": [
    {
     "data": {
      "text/plain": [
       "{'forecasts': [1],\n",
       " 'home': [1, 2, 3, 4],\n",
       " 'increase': [2, 3, 4],\n",
       " 'july': [1, 2, 3, 4],\n",
       " 'new': [1, 4],\n",
       " 'rise': [2, 4],\n",
       " 'sales': [1, 2, 3, 4],\n",
       " 'tap': [1, 4]}"
      ]
     },
     "execution_count": 6,
     "metadata": {},
     "output_type": "execute_result"
    }
   ],
   "source": [
    "dictx1={}\n",
    "for word in res:\n",
    "    dictx1[word]=[]\n",
    "for word in res:\n",
    "  for i in range(len(s)):\n",
    "    for j in range(len(s[i])):\n",
    "      if word==s[i][j]:\n",
    "        dictx1[word].append(i+1)\n",
    "        break\n",
    "dictx1"
   ]
  },
  {
   "cell_type": "code",
   "execution_count": 7,
   "id": "42d26741",
   "metadata": {},
   "outputs": [],
   "source": [
    "def intersectlists(l1,l2):\n",
    "    res=[]\n",
    "    for i in l1:\n",
    "        if i in l2:\n",
    "            res.append(i)\n",
    "    return res\n",
    "def unionlists(l1,l2):\n",
    "    res=[]\n",
    "    for i in l1:\n",
    "        if(i not in res):\n",
    "            res.append(i)\n",
    "    for i in l2:\n",
    "        if(i not in res):\n",
    "            res.append(i)\n",
    "    return res\n",
    "def notop(l1):\n",
    "    res=[]\n",
    "    for i in range(1,len(s)+1):\n",
    "        if(i not in l1):\n",
    "            res.append(i)\n",
    "    return res\n",
    "def findposting(q1):\n",
    "    l1=[]\n",
    "    for i in dictx1:\n",
    "        if i==q1:\n",
    "            l1=dictx1[q1]\n",
    "    return l1\n",
    "\n",
    "def precedence(l1):\n",
    "    if l1==\"not\":\n",
    "        return 1\n",
    "    elif l1==\"and\":\n",
    "        return 2\n",
    "    elif l1==\"or\":\n",
    "        return 3"
   ]
  },
  {
   "cell_type": "code",
   "execution_count": 14,
   "id": "e777261a",
   "metadata": {},
   "outputs": [
    {
     "name": "stdout",
     "output_type": "stream",
     "text": [
      "new and tap\n",
      "[1, 4]\n"
     ]
    }
   ],
   "source": [
    "#boolean queries\n",
    "query=input()\n",
    "query=query.split()\n",
    "stack=[]\n",
    "words=[]\n",
    "idx=-1\n",
    "oper=[\"and\",\"or\",\"not\"]\n",
    "for i in range(len(query)):\n",
    "    if(query[i] not in oper):\n",
    "        words.append(findposting(query[i]))\n",
    "    else:\n",
    "        pre=precedence(query[i])\n",
    "        now=query[i]\n",
    "        if(stack==[]):\n",
    "            stack.append(query[i])\n",
    "            idx=idx+1\n",
    "        elif(precedence(stack[idx])>pre):\n",
    "            stack.append(query[i])\n",
    "            idx=idx+1\n",
    "        elif(precedence(stack[idx])<=pre):\n",
    "            while(stack!=[] and precedence(stack[idx])<pre):\n",
    "                if(stack[idx]==\"and\"):\n",
    "                    l1=words.pop()\n",
    "                    l2=words.pop()\n",
    "                    words.append(intersectlists(l1,l2))\n",
    "                elif(stack[idx]==\"or\"):\n",
    "                    l1=words.pop()\n",
    "                    l2=words.pop()\n",
    "                    words.append(unionlists(l1,l2))\n",
    "                elif(stack[idx]==\"not\"):\n",
    "                    l1=words.pop()\n",
    "                    words.append(notop(l1))\n",
    "                stack.pop()\n",
    "                idx=idx-1\n",
    "            stack.append(now)\n",
    "            idx=idx+1\n",
    "if(stack!=[]):\n",
    "    while(stack!=[]):\n",
    "        if(stack[idx]==\"and\"):\n",
    "            l1=words.pop()\n",
    "            l2=words.pop()\n",
    "            words.append(intersectlists(l1,l2))\n",
    "        elif(stack[idx]==\"or\"):\n",
    "            l1=words.pop()\n",
    "            l2=words.pop()\n",
    "            words.append(unionlists(l1,l2))\n",
    "        elif(stack[idx]==\"not\"):\n",
    "            l1=words.pop()\n",
    "            words.append(notop(l1))\n",
    "        stack.pop()\n",
    "        idx=idx-1\n",
    "    stack.append(now)\n",
    "    idx=idx+1\n",
    "print(sorted(words[0]))"
   ]
  },
  {
   "cell_type": "code",
   "execution_count": 27,
   "id": "3a53aa78",
   "metadata": {},
   "outputs": [
    {
     "name": "stdout",
     "output_type": "stream",
     "text": [
      "rise new or tap\n",
      "['rise new ', ' tap']\n",
      "{1, 2, 4}\n"
     ]
    }
   ],
   "source": [
    "#phrase queries\n",
    "d={}\n",
    "for word in res:\n",
    "    d[word]=[]\n",
    "for word in res:\n",
    "    for i in range(len(s)):\n",
    "        re={}\n",
    "        l=[]\n",
    "        for j in range(len(s[i])):\n",
    "            if word==s[i][j]:\n",
    "                l.append(i+1)\n",
    "        re[i+1]=l\n",
    "        if(l!=[]):\n",
    "            d[word].append(re)\n",
    "d\n",
    "\n",
    "\n",
    "p=input()\n",
    "q=[\"and\",\"or\",\"not\"]\n",
    "for i in p.split(\" \"):\n",
    "    if i in q:\n",
    "        sam=i\n",
    "        p=p.replace(i,\"\\n\")\n",
    "p=p.split(\"\\n\")\n",
    "print(p)\n",
    "\n",
    "l1=[]\n",
    "for i in p:\n",
    "    i=i.split()\n",
    "    for j in i:\n",
    "        l2=[]\n",
    "        for k in d[j]:\n",
    "            l2.append(int(\" \".join(str(key) for key in k.keys())))\n",
    "        l1.append(l2)\n",
    "if(sam==\"and\"):\n",
    "    print(set(intersectlists(l1[0],l1[1])))\n",
    "elif(sam==\"or\"):\n",
    "    print(set(unionlists(l1[0],l1[1])))"
   ]
  },
  {
   "cell_type": "code",
   "execution_count": 40,
   "id": "8a707cb8",
   "metadata": {},
   "outputs": [
    {
     "name": "stdout",
     "output_type": "stream",
     "text": [
      "sk\n",
      "['sky', 'skill', 'skip']\n"
     ]
    }
   ],
   "source": [
    "#wildcard\n",
    "s1=\"rama raja ravi sky skill skip raghava\"\n",
    "sp1=s1.split()\n",
    "g=input()\n",
    "g=g[:len(g)-1]\n",
    "\n",
    "s1=\"$\"+s1+\"$\"\n",
    "t=s1.replace(\" \",\"$\")\n",
    "l=[]\n",
    "for i in range(len(t)-1):\n",
    "    p=t[i]+t[i+1]\n",
    "    l.append(p)\n",
    "\n",
    "k={}\n",
    "for i in l:\n",
    "    m=[]\n",
    "    if \"$\" in i:\n",
    "        if(i[0]==\"$\"):\n",
    "            for j in sp1:\n",
    "                if(i[1] in j):\n",
    "                    m.append(j)\n",
    "            k[i]=m\n",
    "        else:\n",
    "            for j in sp1:\n",
    "                if(l[0] in j):\n",
    "                    m.append(j)\n",
    "            k[i]=m\n",
    "    else:\n",
    "        for j in sp1:\n",
    "            for i in j:\n",
    "                m.append(j)\n",
    "        k[i]=m\n",
    "        \n",
    "l=[]\n",
    "for i in k.keys():\n",
    "    if \"$\" in i:\n",
    "        if(i[0]==\"$\"):\n",
    "            t=i[1]\n",
    "        else:\n",
    "            t=i[0]\n",
    "    else:\n",
    "        t=i\n",
    "    if(t==g):\n",
    "        if(k[i] not in l):\n",
    "            l.append(k[i])\n",
    "print(l[0])"
   ]
  },
  {
   "cell_type": "code",
   "execution_count": 80,
   "id": "3e329c89",
   "metadata": {},
   "outputs": [
    {
     "name": "stdout",
     "output_type": "stream",
     "text": [
      "enter string1 : haelo\n",
      "hello\n"
     ]
    }
   ],
   "source": [
    "#spell correction\n",
    "def min1(a,b,c):\n",
    "  if(a<b and a<c):\n",
    "    return a\n",
    "  elif(b<c):\n",
    "    return b\n",
    "  else:\n",
    "    return c\n",
    "\n",
    "def edit_distance(s1,ma,o):\n",
    "  for i in range(len(ma)):\n",
    "    s1=s1.lower()\n",
    "    s2=ma[i]\n",
    "    s2=s2.lower()\n",
    "    n=len(s1)\n",
    "    t=len(s2)\n",
    "    p=[]\n",
    "    m=[]\n",
    "    for i in range(1):\n",
    "      for j in range(1):\n",
    "        for k in range(t+1):\n",
    "          m.extend([i+k])\n",
    "    p.append(m)\n",
    "    for i in range(1,n+1):\n",
    "      for j in range(1):\n",
    "        l=[]\n",
    "        for k in range(1):\n",
    "          l.extend([i+k])\n",
    "        for k in range(1,t+1):\n",
    "          l.append(0)\n",
    "        p.append(l)\n",
    "    #print(p)\n",
    "    a=list(s1)\n",
    "    b=list(s2)\n",
    "    #print(a)\n",
    "    #print(b)\n",
    "    for i in range(len(a)):\n",
    "      for j in range(len(b)):\n",
    "        if(a[i]==b[j]):\n",
    "            p[i+1][j+1]=min1(p[i+1][j]+1,p[i][j+1]+1,p[i][j]+0)\n",
    "        else:\n",
    "          p[i+1][j+1]=min1(p[i+1][j]+1,p[i][j+1]+1,p[i][j]+1)\n",
    "    mn=p[-1][-1]\n",
    "    o.extend([mn])\n",
    "  low=min(o)\n",
    "  low1=o.index(low)\n",
    "  print(ma[low1])\n",
    "s1=input(\"enter string1 : \")\n",
    "ma = [\"paris\",\"book\",\"hello\"]\n",
    "o=[]\n",
    "edit_distance(s1,ma,o)"
   ]
  },
  {
   "cell_type": "code",
   "execution_count": 77,
   "id": "e1c14781",
   "metadata": {},
   "outputs": [
    {
     "name": "stdout",
     "output_type": "stream",
     "text": [
      "[{'forecasts': [1], 'home': [1, 2], 'increase': [2], 'july': [1, 2], 'new': [1], 'rise': [2], 'sales': [1, 2], 'tap': [1]}, {'home': [3, 4], 'increase': [3, 4], 'july': [3, 4], 'new': [4], 'rise': [4], 'sales': [3, 4], 'tap': [4]}]\n",
      "[1, 4]\n"
     ]
    }
   ],
   "source": [
    "#bsbi\n",
    "def indexing_block(l1,ind):\n",
    "    s=[]\n",
    "    for i in range(len(l1)):\n",
    "        l=open(l1[i]).read()\n",
    "        s.append(l)\n",
    "    punc=\"()-[]{}_!@#$%^&*<>.,;:\"\n",
    "    for i in range(len(s)):\n",
    "        for word in s[i]:\n",
    "            if word in punc:\n",
    "                s[i]=s[i].replace(word,\" \")\n",
    "                s[i]=s[i].replace(\"\\n\",\" \")\n",
    "                s[i]=s[i].lower()\n",
    "    \n",
    "    token=[]\n",
    "    for i in s:\n",
    "        tk=word_tokenize(i)\n",
    "        token.append(tk)\n",
    "\n",
    "    res=[]\n",
    "    for i in token:\n",
    "        for word in i:\n",
    "            if word not in stopwords.words(\"english\") and word not in res:\n",
    "                res.append(word)\n",
    "    res.sort()          \n",
    "    for k in range(len(s)):\n",
    "        s[k]=s[k].split(\" \")\n",
    "        \n",
    "        \n",
    "    dictx1={} \n",
    "    for word in res:\n",
    "        if(word not in dictx1.keys()):\n",
    "            dictx1[word]=[]\n",
    "    for word in res:\n",
    "      for i in range(len(s)):\n",
    "        for j in range(len(s[i])):\n",
    "          if word==s[i][j]:\n",
    "            dictx1[word].append(i+1+ind)\n",
    "            break\n",
    "    return dictx1\n",
    "\n",
    "m1=[\"s1.txt\",\"s2.txt\"]\n",
    "m2=[\"s3.txt\",\"s4.txt\"]\n",
    "dictx1={}\n",
    "l=[]\n",
    "l.append(indexing_block(m1,0))\n",
    "l.append(indexing_block(m2,2))\n",
    "print(l)\n",
    "res_key=[]\n",
    "for i in l:\n",
    "    res_key.extend(i.keys())\n",
    "res_key.sort()\n",
    "res_keys=[]\n",
    "[res_keys.append(x) for x in res_key if x not in res_keys]\n",
    "res_dict={}\n",
    "for i in res_keys:\n",
    "    result=[]\n",
    "    for dix in l:\n",
    "        if i in dix.keys():\n",
    "            result.extend(dix[i])\n",
    "        res_dict=result\n",
    "print(res_dict)"
   ]
  },
  {
   "cell_type": "code",
   "execution_count": 71,
   "id": "5151e962",
   "metadata": {},
   "outputs": [
    {
     "name": "stdout",
     "output_type": "stream",
     "text": [
      "{'forecasts': [1], 'home': [1, 2, 3, 4], 'increase': [2, 3, 4], 'july': [1, 2, 3, 4], 'new': [1, 4], 'rise': [2, 4], 'sales': [1, 2, 3, 4], 'tap': [1, 4]}\n"
     ]
    }
   ],
   "source": [
    "#spimi\n",
    "def indexing_block(dictx1,l1,ind):\n",
    "    s=[]\n",
    "    for i in range(len(l1)):\n",
    "        l=open(l1[i]).read()\n",
    "        s.append(l)\n",
    "    punc=\"()-[]{}_!@#$%^&*<>.,;:\"\n",
    "    for i in range(len(s)):\n",
    "        for word in s[i]:\n",
    "            if word in punc:\n",
    "                s[i]=s[i].replace(word,\" \")\n",
    "                s[i]=s[i].replace(\"\\n\",\" \")\n",
    "                s[i]=s[i].lower()\n",
    "    \n",
    "    token=[]\n",
    "    for i in s:\n",
    "        tk=word_tokenize(i)\n",
    "        token.append(tk)\n",
    "\n",
    "    res=[]\n",
    "    for i in token:\n",
    "        for word in i:\n",
    "            if word not in stopwords.words(\"english\") and word not in res:\n",
    "                res.append(word)\n",
    "    res.sort()          \n",
    "    for k in range(len(s)):\n",
    "        s[k]=s[k].split(\" \")\n",
    "    \n",
    "    for word in res:\n",
    "        if(word not in dictx1.keys()):\n",
    "            dictx1[word]=[]\n",
    "    for word in res:\n",
    "      for i in range(len(s)):\n",
    "        for j in range(len(s[i])):\n",
    "          if word==s[i][j]:\n",
    "            dictx1[word].append(i+1+ind)\n",
    "            break\n",
    "    return dictx1\n",
    "\n",
    "m1=[\"s1.txt\",\"s2.txt\"]\n",
    "m2=[\"s3.txt\",\"s4.txt\"]\n",
    "dictx1={}\n",
    "l=[]\n",
    "l.append(indexing_block(dictx1,m1,0))\n",
    "l.append(indexing_block(dictx1,m2,2))\n",
    "print(l[len(l)-1])"
   ]
  },
  {
   "cell_type": "code",
   "execution_count": 50,
   "id": "da3a6b6e",
   "metadata": {},
   "outputs": [
    {
     "name": "stdout",
     "output_type": "stream",
     "text": [
      "[['new', 'home', 'sales', 'tap', 'forecasts', 'new', 'july', 'tap'], ['home', 'sales', 'rise', 'in', 'july', 'increase', 'rise', 'july', 'home']]\n",
      "{'rise', 'tap', 'in', 'sales', 'july', 'new', 'increase', 'forecasts', 'home'}\n",
      "{0: [0.0, 1.3862943611198906, 0.0, 0.0, 0.0, 1.3862943611198906, 0.0, 0.6931471805599453, 0.0], 1: [1.3862943611198906, 0.0, 0.6931471805599453, 0.0, 0.0, 0.0, 0.6931471805599453, 0.0, 0.0]}\n",
      "new home\n",
      "[0.4714045207910317, 0.0]\n"
     ]
    }
   ],
   "source": [
    "import numpy as np\n",
    "import math\n",
    "l=[\"s1.txt\",'s2.txt']\n",
    "s=[]\n",
    "for i in range(2):\n",
    "  f=open(l[i],encoding=\"UTF-8\")\n",
    "  read=f.read()\n",
    "  s.append(read)\n",
    "  f.seek(0)\n",
    "#counting number of lines\n",
    "line=1\n",
    "for i in s:\n",
    "  for word in i:\n",
    "    if word=='\\n':\n",
    "      line+=1\n",
    "#removing punctuations and new lines\n",
    "punc = '''!()-[]{};:'\"\\, <>./?@#$%^&*_~'''\n",
    "for i in range(len(s)):\n",
    "  for word in s[i]:\n",
    "    if word in punc:\n",
    "      s[i]=s[i].replace(word,\" \")\n",
    "      s[i]=s[i].replace('\\n',\" \")\n",
    "      s[i]=s[i].lower()\n",
    "for k in range(len(s)):\n",
    "  s[k]=s[k].split()\n",
    "print(s)\n",
    "\n",
    "vocab=[]\n",
    "for i in s:\n",
    "    vocab.extend(i)\n",
    "vocab=set(vocab)\n",
    "print(vocab)\n",
    "\n",
    "mat={}\n",
    "for i in range(len(s)):\n",
    "    res=[]\n",
    "    for word in vocab:\n",
    "        tf=s[i].count(word)\n",
    "        df=0\n",
    "        for k in s:\n",
    "            if word in k:\n",
    "                df=df+1\n",
    "        idf=math.log(2/df)\n",
    "        res.append(tf*idf)\n",
    "    mat[i]=res\n",
    "print(mat)\n",
    "query=input()\n",
    "queryvec=[]\n",
    "query=query.split(\" \")\n",
    "querysum=0\n",
    "for i in vocab:\n",
    "  if i in query:\n",
    "    queryvec.append(1)\n",
    "    querysum+=1\n",
    "  else:\n",
    "    queryvec.append(0)\n",
    "    querysum+=0\n",
    "querymag=math.sqrt(querysum)\n",
    "cosine=[]\n",
    "for key in mat.keys():\n",
    "  temp=np.dot(queryvec,mat[key])\n",
    "  sum=0\n",
    "  for i in mat[key]:\n",
    "    sum+=(i**2)\n",
    "  mag=math.sqrt(sum)\n",
    "  cosine.append(temp/(mag*querymag))\n",
    "print(cosine)"
   ]
  },
  {
   "cell_type": "code",
   "execution_count": 45,
   "id": "89202c05",
   "metadata": {},
   "outputs": [
    {
     "name": "stdout",
     "output_type": "stream",
     "text": [
      "0.00030121377997263036\n",
      "0.00013548070246744226\n",
      "yes\n"
     ]
    }
   ],
   "source": [
    "#naive bayes\n",
    "cdoc=[\"test1.txt\",\"test2.txt\",\"text3.txt\"]\n",
    "cbardoc=[\"test4.txt\"]\n",
    "f=open(\"test5.txt\")\n",
    "totaldocs=len(cdoc)+len(cbardoc)\n",
    "read=f.read()\n",
    "query=str(read)\n",
    "\n",
    "c=[]\n",
    "for i in cdoc:\n",
    "    f=open(i)\n",
    "    read=f.read()\n",
    "    c.extend(read.split())\n",
    "    \n",
    "cbar=[]\n",
    "for i in cbardoc:\n",
    "    f=open(i)\n",
    "    read=f.read()\n",
    "    cbar.extend(read.split())\n",
    "vocab=c+cbar\n",
    "vocab=set(vocab)\n",
    "pyes=1\n",
    "pno=1\n",
    "query=query.split(\" \")\n",
    "for i in query:\n",
    "    pyes*=(c.count(i)+1)/(len(c)+len(vocab))\n",
    "for i in query:\n",
    "    pno*=(cbar.count(i)+1)/(len(cbar)+len(vocab))\n",
    "\n",
    "pyes=(len(cdoc)/totaldocs)*pyes\n",
    "pno=(len(cbardoc)/totaldocs)*pno\n",
    "print(pyes)\n",
    "print(pno)\n",
    "if(pyes>pno):\n",
    "    print(\"yes\")\n",
    "else:\n",
    "    print(\"no\")"
   ]
  },
  {
   "cell_type": "code",
   "execution_count": 38,
   "id": "5dad07fd",
   "metadata": {},
   "outputs": [
    {
     "name": "stdout",
     "output_type": "stream",
     "text": [
      "[0, 0, 0, 0, 0, 0, 0, 0, 0, 0, 0, 0, 0, 0, 0]\n",
      "cat1\n"
     ]
    },
    {
     "data": {
      "image/png": "[encoded data removed]",
      "text/plain": [
       "<Figure size 432x288 with 1 Axes>"
      ]
     },
     "metadata": {
      "needs_background": "light"
     },
     "output_type": "display_data"
    }
   ],
   "source": [
    "#k-nn\n",
    "from sklearn import datasets\n",
    "import pandas as pd\n",
    "import numpy as np\n",
    "import math\n",
    "import matplotlib.pyplot as plt\n",
    "iris=datasets.load_iris()\n",
    "iris\n",
    "q=[2.3,3.4]\n",
    "k=15\n",
    "x=iris.data[:,:2]\n",
    "y=iris.target\n",
    "def distance(x,q):\n",
    "    a=[]\n",
    "    for i in range(len(x)):\n",
    "        a1=(x[i][0]-q[0])**2\n",
    "        a2=(x[i][1]-q[1])**2\n",
    "        a.append(math.sqrt(a1+a2))\n",
    "    return a\n",
    "c=distance(x,q)\n",
    "idx=np.argsort(c)\n",
    "t=y[idx][:k]\n",
    "t=list(t)\n",
    "print(t)\n",
    "zero=t.count(0)\n",
    "one=t.count(1)\n",
    "two=t.count(2)\n",
    "if(zero>one and zero>two):\n",
    "    m=\"cat1\"\n",
    "elif(one>two):\n",
    "    m=\"cat2\"\n",
    "else:\n",
    "    m=\"cat3\"\n",
    "print(m)\n",
    "\n",
    "col=[\"sepal_length\",\"sepal_width\",\"petal_length\",\"petal_width\"]\n",
    "df=pd.DataFrame(iris.data,columns=col)\n",
    "plt.plot(df[\"sepal_length\"][:50],df[\"sepal_width\"][:50],\"b.\")\n",
    "plt.plot(df[\"sepal_length\"][50:100],df[\"sepal_width\"][50:100],\"g.\")\n",
    "plt.plot(df[\"sepal_length\"][100:],df[\"sepal_width\"][100:],\"r*\")\n",
    "plt.show()"
   ]
  },
  {
   "cell_type": "code",
   "execution_count": 30,
   "id": "ec24bd24",
   "metadata": {},
   "outputs": [
    {
     "name": "stdout",
     "output_type": "stream",
     "text": [
      "enter no of clusters : 6\n",
      "1  :  [1]\n",
      "2  :  [2]\n",
      "3  :  [3, 7]\n",
      "4  :  [11, 8, 9, 10]\n",
      "5  :  [51]\n",
      "6  :  [69]\n"
     ]
    }
   ],
   "source": [
    "#k-means\n",
    "def mean(s):\n",
    "    return sum(s)/len(s)\n",
    "l=[1,2,3,11,51,69,7,8,9,10]\n",
    "n=int(input(\"enter no of clusters : \"))\n",
    "clusters={}\n",
    "for i in range(n):\n",
    "    clusters[i+1]=[[],l[i]]\n",
    "\n",
    "while True:\n",
    "    present={}\n",
    "    for cluster in clusters:\n",
    "        present[cluster]=[]\n",
    "    for doc in l:\n",
    "        m=1000\n",
    "        c=\" \"\n",
    "        for cluster in clusters:\n",
    "            if(m>abs(doc-clusters[cluster][-1])):\n",
    "                m=abs(doc-clusters[cluster][-1])\n",
    "                c=cluster\n",
    "        present[c].append(doc)\n",
    "    if(present[c]==clusters[c][0]):\n",
    "        break\n",
    "    else:\n",
    "        for cluster in clusters:\n",
    "            clusters[cluster][0]=present[cluster]\n",
    "            clusters[cluster][1]=mean(present[cluster])\n",
    "for cluster in clusters:\n",
    "    print(cluster,\" : \",clusters[cluster][0])"
   ]
  }
 ],
 "metadata": {
  "kernelspec": {
   "display_name": "Python 3",
   "language": "python",
   "name": "python3"
  },
  "language_info": {
   "codemirror_mode": {
    "name": "ipython",
    "version": 3
   },
   "file_extension": ".py",
   "mimetype": "text/x-python",
   "name": "python",
   "nbconvert_exporter": "python",
   "pygments_lexer": "ipython3",
   "version": "3.8.8"
  }
 },
 "nbformat": 4,
 "nbformat_minor": 5
}
