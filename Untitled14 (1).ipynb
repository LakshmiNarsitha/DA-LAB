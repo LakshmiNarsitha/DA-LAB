{
 "cells": [
  {
   "cell_type": "code",
   "execution_count": 15,
   "id": "29ff148d",
   "metadata": {},
   "outputs": [
    {
     "name": "stdout",
     "output_type": "stream",
     "text": [
      "[ 6  7  8  9 10]\n",
      "[-1  0  1  2  3]\n"
     ]
    }
   ],
   "source": [
    "#a.Using Numpy, write a basic array of operations on single array to add x to each element of array and subtract y \n",
    "#from each element of array. \n",
    "import numpy as np\n",
    "l=[1,2,3,4,5]\n",
    "a=np.array(l)\n",
    "b=a+5\n",
    "c=a-2\n",
    "print(b)\n",
    "print(c)"
   ]
  },
  {
   "cell_type": "code",
   "execution_count": 60,
   "id": "2d5be371",
   "metadata": {},
   "outputs": [
    {
     "name": "stdout",
     "output_type": "stream",
     "text": [
      "Addition is :\n",
      "[[[ 3  5]\n",
      "  [ 8 11]]\n",
      "\n",
      " [[16 19]\n",
      "  [22 25]]]\n",
      "\n",
      "\n",
      "Multiplication is :\n",
      "[[[ 12  17]\n",
      "  [ 26  37]]\n",
      "\n",
      " [[145 167]\n",
      "  [197 227]]]\n",
      "3\n"
     ]
    }
   ],
   "source": [
    "#b. Using Numpy, write a program to add, subtract and multiply two matrices. \n",
    "a=np.array([[[1,2],[3,4]],[[5,6],[7,8]]])\n",
    "b=np.array([[[2,3],[5,7]],[[11,13],[15,17]]])\n",
    "c=a+b\n",
    "print(\"Addition is :\")\n",
    "print(c)\n",
    "print(\"\\n\")\n",
    "print(\"Multiplication is :\")\n",
    "d=np.matmul(a,b)\n",
    "print(d)\n",
    "print(a.ndim)\n"
   ]
  },
  {
   "cell_type": "code",
   "execution_count": 17,
   "id": "f19efa64",
   "metadata": {},
   "outputs": [
    {
     "name": "stdout",
     "output_type": "stream",
     "text": [
      "[[0. 0. 0.]\n",
      " [0. 0. 0.]\n",
      " [0. 0. 0.]]\n",
      "[[1. 1. 1.]\n",
      " [1. 1. 1.]\n",
      " [1. 1. 1.]]\n"
     ]
    }
   ],
   "source": [
    "#ii)\tCreate a matrix full of zeros and ones \n",
    "p=np.zeros((3,3))\n",
    "print(p)\n",
    "q=np.ones((3,3))\n",
    "print(q)"
   ]
  },
  {
   "cell_type": "code",
   "execution_count": 48,
   "id": "522a3f76",
   "metadata": {},
   "outputs": [
    {
     "name": "stdout",
     "output_type": "stream",
     "text": [
      "[[ 2  3  5  7]\n",
      " [11 13 15 17]]\n",
      "[ 2  3  5  7 11 13 15 17]\n"
     ]
    }
   ],
   "source": [
    "#iii)\tReshape and flatten data in the array \n",
    "c=b.reshape((2,4))\n",
    "print(c)\n",
    "d=b.flatten('C')\n",
    "print(d)"
   ]
  },
  {
   "cell_type": "code",
   "execution_count": 22,
   "id": "01f539b5",
   "metadata": {},
   "outputs": [
    {
     "name": "stdout",
     "output_type": "stream",
     "text": [
      "[[[ 1  2]\n",
      "  [ 3  4]\n",
      "  [ 2  3]\n",
      "  [ 5  7]]\n",
      "\n",
      " [[ 5  6]\n",
      "  [ 7  8]\n",
      "  [11 13]\n",
      "  [15 17]]]\n",
      "\n",
      "\n",
      "[[[ 1  2]\n",
      "  [ 3  4]]\n",
      "\n",
      " [[ 5  6]\n",
      "  [ 7  8]]\n",
      "\n",
      " [[ 2  3]\n",
      "  [ 5  7]]\n",
      "\n",
      " [[11 13]\n",
      "  [15 17]]]\n"
     ]
    }
   ],
   "source": [
    "#iv)\tAppend data vertically and horizontally \n",
    "r=np.hstack((a,b))\n",
    "print(r)\n",
    "print(\"\\n\")\n",
    "s=np.vstack((a,b))\n",
    "print(s)"
   ]
  },
  {
   "cell_type": "code",
   "execution_count": 29,
   "id": "6097cfbd",
   "metadata": {},
   "outputs": [
    {
     "name": "stdout",
     "output_type": "stream",
     "text": [
      "[[1 2]\n",
      " [3 4]]\n",
      "\n",
      "\n",
      "[3 4]\n"
     ]
    }
   ],
   "source": [
    "#v)\tApply indexing and slicing on array \n",
    "m=a[0]\n",
    "print(m)\n",
    "print(\"\\n\")\n",
    "n=a[0][1]\n",
    "print(n)"
   ]
  },
  {
   "cell_type": "code",
   "execution_count": 38,
   "id": "ebf8a74c",
   "metadata": {},
   "outputs": [
    {
     "name": "stdout",
     "output_type": "stream",
     "text": [
      "8\n",
      "1\n",
      "4.5\n",
      "4.5\n",
      "2.29128784747792\n"
     ]
    }
   ],
   "source": [
    "#vi)\tUse statistical functions on array - Min, Max, Mean, Median and Standard Deviation \n",
    "m1=np.max(a)\n",
    "print(m1)\n",
    "m2=np.min(a)\n",
    "print(m2)\n",
    "m3=np.mean(a)\n",
    "print(m3)\n",
    "m4=np.median(a)\n",
    "print(m4)\n",
    "m5=np.std(a)\n",
    "print(m5)"
   ]
  },
  {
   "cell_type": "code",
   "execution_count": 43,
   "id": "2554ffba",
   "metadata": {},
   "outputs": [
    {
     "name": "stdout",
     "output_type": "stream",
     "text": [
      "[[[ 12  17]\n",
      "  [ 26  37]]\n",
      "\n",
      " [[145 167]\n",
      "  [197 227]]]\n",
      "\n",
      "\n",
      "[[[  2   6]\n",
      "  [ 15  28]]\n",
      "\n",
      " [[ 55  78]\n",
      "  [105 136]]]\n"
     ]
    }
   ],
   "source": [
    "#vii)\tDot and matrix product of two arrays \n",
    "p=np.matmul(a,b)\n",
    "print(p)\n",
    "print(\"\\n\")\n",
    "q=a*b\n",
    "print(q)"
   ]
  },
  {
   "cell_type": "code",
   "execution_count": 49,
   "id": "b93e4f3d",
   "metadata": {},
   "outputs": [
    {
     "name": "stdout",
     "output_type": "stream",
     "text": [
      "(array([[-0.37228132,  5.37228132],\n",
      "       [-0.15206735, 13.15206735]]), array([[[-0.82456484, -0.41597356],\n",
      "        [ 0.56576746, -0.90937671]],\n",
      "\n",
      "       [[-0.75868086, -0.59276441],\n",
      "        [ 0.65146248, -0.80537591]]]))\n"
     ]
    }
   ],
   "source": [
    "#viii)\tCompute the Eigen values of a matrix \n",
    "k=np.linalg.eig(a)\n",
    "print(k)"
   ]
  },
  {
   "cell_type": "code",
   "execution_count": 50,
   "id": "fad0f036",
   "metadata": {},
   "outputs": [
    {
     "name": "stdout",
     "output_type": "stream",
     "text": [
      "[2. 3.]\n"
     ]
    }
   ],
   "source": [
    "#ix)\tSolve a linear matrix equation such as 3 * x0 + x1 = 9, x0 + 2 * x1 = 8 \n",
    "s1=np.array([[3,1],[1,2]])\n",
    "s2=np.array([9,8])\n",
    "s3=np.linalg.solve(s1,s2)\n",
    "print(s3)"
   ]
  },
  {
   "cell_type": "code",
   "execution_count": 51,
   "id": "3c78d612",
   "metadata": {},
   "outputs": [
    {
     "name": "stdout",
     "output_type": "stream",
     "text": [
      "[[[-2.   1. ]\n",
      "  [ 1.5 -0.5]]\n",
      "\n",
      " [[-4.   3. ]\n",
      "  [ 3.5 -2.5]]]\n"
     ]
    }
   ],
   "source": [
    "#x)\tCompute the multiplicative inverse of a matrix \n",
    "inv=np.linalg.inv(a)\n",
    "print(inv)"
   ]
  },
  {
   "cell_type": "code",
   "execution_count": 52,
   "id": "548de627",
   "metadata": {},
   "outputs": [
    {
     "name": "stdout",
     "output_type": "stream",
     "text": [
      "[2 2]\n"
     ]
    }
   ],
   "source": [
    "#xi)\tCompute the rank of a matrix \n",
    "r=np.linalg.matrix_rank(a)\n",
    "print(r)"
   ]
  },
  {
   "cell_type": "code",
   "execution_count": 56,
   "id": "8359fcdb",
   "metadata": {},
   "outputs": [
    {
     "name": "stdout",
     "output_type": "stream",
     "text": [
      "[-2. -2.]\n",
      "[[[1 2]\n",
      "  [3 4]]\n",
      "\n",
      " [[5 6]\n",
      "  [7 8]]]\n"
     ]
    }
   ],
   "source": [
    "#Compute the determinant of an array\n",
    "det=np.linalg.det(a)\n",
    "print(det)\n",
    "print(a)"
   ]
  }
 ],
 "metadata": {
  "kernelspec": {
   "display_name": "Python 3 (ipykernel)",
   "language": "python",
   "name": "python3"
  },
  "language_info": {
   "codemirror_mode": {
    "name": "ipython",
    "version": 3
   },
   "file_extension": ".py",
   "mimetype": "text/x-python",
   "name": "python",
   "nbconvert_exporter": "python",
   "pygments_lexer": "ipython3",
   "version": "3.9.7"
  }
 },
 "nbformat": 4,
 "nbformat_minor": 5
}
