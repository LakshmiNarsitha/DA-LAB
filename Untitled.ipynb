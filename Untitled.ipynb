{
 "cells": [
  {
   "cell_type": "code",
   "execution_count": 163,
   "id": "3db205a1",
   "metadata": {},
   "outputs": [
    {
     "name": "stdout",
     "output_type": "stream",
     "text": [
      "[1.63999 2.      3.      4.     ]\n",
      "float64\n",
      "[1 2 3 4]\n",
      "int32\n"
     ]
    }
   ],
   "source": [
    "import numpy as np\n",
    "a=np.array([1.63999,2,3,4],dtype='f4')\n",
    "print(a)\n",
    "p=np.array([1.63999,2,3,4],dtype='float64')\n",
    "print(p.dtype)\n",
    "b=np.array([1,2,3,4],dtype='i4') #i2 i4 i8\n",
    "print(b)\n",
    "print(b.dtype)"
   ]
  },
  {
   "cell_type": "code",
   "execution_count": 142,
   "id": "1069f849",
   "metadata": {},
   "outputs": [
    {
     "name": "stdout",
     "output_type": "stream",
     "text": [
      "[5 6 7 8]\n",
      "int64\n",
      "<class 'numpy.ndarray'>\n"
     ]
    }
   ],
   "source": [
    "k=np.dtype(np.int64) #object is converted into datatype object\n",
    "c=np.array([5,6,7,8],dtype=k) \n",
    "print(c)\n",
    "print(c.dtype) #checking datatype\n",
    "print(type(c)) "
   ]
  },
  {
   "cell_type": "code",
   "execution_count": 141,
   "id": "fe7550db",
   "metadata": {},
   "outputs": [
    {
     "name": "stdout",
     "output_type": "stream",
     "text": [
      "int32\n"
     ]
    }
   ],
   "source": [
    "d=np.array([1,2,3,4])\n",
    "print(d.dtype)"
   ]
  },
  {
   "cell_type": "code",
   "execution_count": 20,
   "id": "cb3ea814",
   "metadata": {},
   "outputs": [
    {
     "name": "stdout",
     "output_type": "stream",
     "text": [
      "[1.   2.   3.   4.   6.7  8.99]\n",
      "[1 2 3 4 6 8]\n",
      "[1 2 3 4 5]\n",
      "[1. 2. 3. 4. 5.]\n",
      "int32\n",
      "float32\n"
     ]
    }
   ],
   "source": [
    "import numpy as np\n",
    "p=np.array([1,2,3,4,6.7,8.99])\n",
    "print(p)\n",
    "q=np.array([1,2,3,4,6.7,8.99],dtype='i')   #dtype= i or f\n",
    "print(q)\n",
    "r=np.array([1,2,3,4,5])\n",
    "print(r)\n",
    "s=r.astype('f')  #astype = i or f\n",
    "print(s)\n",
    "print(r.dtype)\n",
    "print(s.dtype)"
   ]
  },
  {
   "cell_type": "code",
   "execution_count": 32,
   "id": "b7e2d9c2",
   "metadata": {},
   "outputs": [
    {
     "name": "stdout",
     "output_type": "stream",
     "text": [
      "[0 1 2 3 4 5 6 7 8 9]\n"
     ]
    }
   ],
   "source": [
    "#arrange\n",
    "arr=np.arange(10)  \n",
    "print(arr)"
   ]
  },
  {
   "cell_type": "code",
   "execution_count": 35,
   "id": "2b242bb4",
   "metadata": {},
   "outputs": [
    {
     "name": "stdout",
     "output_type": "stream",
     "text": [
      "(10,)\n"
     ]
    }
   ],
   "source": [
    "#shape\n",
    "print(arr.shape)"
   ]
  },
  {
   "cell_type": "code",
   "execution_count": 36,
   "id": "bd4f2f38",
   "metadata": {},
   "outputs": [
    {
     "name": "stdout",
     "output_type": "stream",
     "text": [
      "[[0 1 2 3 4]\n",
      " [5 6 7 8 9]]\n"
     ]
    }
   ],
   "source": [
    "#reshape\n",
    "arr1=arr.reshape(2,5)\n",
    "print(arr1)"
   ]
  },
  {
   "cell_type": "code",
   "execution_count": 37,
   "id": "ac20c02a",
   "metadata": {},
   "outputs": [
    {
     "name": "stdout",
     "output_type": "stream",
     "text": [
      "[0. 0. 0. 0.]\n",
      "[[0. 0. 0.]\n",
      " [0. 0. 0.]]\n"
     ]
    }
   ],
   "source": [
    "#zeros\n",
    "arr2=np.zeros(4)\n",
    "print(arr2)\n",
    "\n",
    "arr3=np.zeros((2,3))\n",
    "print(arr3)"
   ]
  },
  {
   "cell_type": "code",
   "execution_count": 39,
   "id": "6dc0bddd",
   "metadata": {},
   "outputs": [
    {
     "name": "stdout",
     "output_type": "stream",
     "text": [
      "[1. 1. 1. 1. 1.]\n",
      "[[1. 1. 1. 1.]\n",
      " [1. 1. 1. 1.]]\n"
     ]
    }
   ],
   "source": [
    "#ones\n",
    "arr4=np.ones(5)\n",
    "print(arr4)\n",
    "\n",
    "arr5=np.ones((2,4))\n",
    "print(arr5)"
   ]
  },
  {
   "cell_type": "code",
   "execution_count": 149,
   "id": "7c26d54c",
   "metadata": {},
   "outputs": [
    {
     "name": "stdout",
     "output_type": "stream",
     "text": [
      "[[4.24399158e-314 8.48798317e-314 1.27319747e-313]\n",
      " [1.69759663e-313 2.12199579e-313 2.54639495e-313]]\n"
     ]
    }
   ],
   "source": [
    "#empty\n",
    "b=np.empty((2,3))\n",
    "print(b)"
   ]
  },
  {
   "cell_type": "code",
   "execution_count": 62,
   "id": "0e817eb5",
   "metadata": {},
   "outputs": [
    {
     "name": "stdout",
     "output_type": "stream",
     "text": [
      "[[10 10 10]\n",
      " [10 10 10]\n",
      " [10 10 10]]\n"
     ]
    }
   ],
   "source": [
    "#full\n",
    "c=np.full((3,3),10)\n",
    "print(c)"
   ]
  },
  {
   "cell_type": "code",
   "execution_count": 104,
   "id": "9c740eb9",
   "metadata": {},
   "outputs": [
    {
     "name": "stdout",
     "output_type": "stream",
     "text": [
      "[[1 0 0]\n",
      " [0 1 0]\n",
      " [0 0 1]]\n"
     ]
    }
   ],
   "source": [
    "#eye (identity matrix)\n",
    "d=np.eye(3,dtype='i')\n",
    "print(d)"
   ]
  },
  {
   "cell_type": "code",
   "execution_count": 102,
   "id": "f1ec6820",
   "metadata": {},
   "outputs": [
    {
     "name": "stdout",
     "output_type": "stream",
     "text": [
      "[ 1 10 20 30 40 50]\n"
     ]
    }
   ],
   "source": [
    "#linspace\n",
    "p=np.linspace(1,50,num=6,dtype='i')\n",
    "print(p)"
   ]
  },
  {
   "cell_type": "code",
   "execution_count": 93,
   "id": "e86c7569",
   "metadata": {},
   "outputs": [
    {
     "name": "stdout",
     "output_type": "stream",
     "text": [
      "[0.86202289 0.76689028 0.09821881 0.13642956 0.88606182]\n",
      "[0.62854191 0.1826201  0.45093516 0.6170497 ]\n",
      "28\n"
     ]
    }
   ],
   "source": [
    "#random\n",
    "q=np.random.random(5)\n",
    "print(q)\n",
    "r=np.random.rand(4)\n",
    "print(r)\n",
    "s=np.random.randint(50)\n",
    "print(s)"
   ]
  },
  {
   "cell_type": "code",
   "execution_count": 107,
   "id": "b686ce1c",
   "metadata": {},
   "outputs": [
    {
     "name": "stdout",
     "output_type": "stream",
     "text": [
      "5\n",
      "0\n",
      "15\n",
      "[0.         1.         1.41421356 1.73205081 2.         2.23606798]\n"
     ]
    }
   ],
   "source": [
    "#max and min\n",
    "a=[0,1,2,3,4,5]\n",
    "print(max(a))\n",
    "print(min(a))\n",
    "print(sum(a))\n",
    "print(np.sqrt(a))"
   ]
  },
  {
   "cell_type": "code",
   "execution_count": 113,
   "id": "5b59ca68",
   "metadata": {},
   "outputs": [
    {
     "name": "stdout",
     "output_type": "stream",
     "text": [
      "[[ 1  2  3  4]\n",
      " [ 5  6  7  8]\n",
      " [ 9 10 11 12]]\n",
      "[ 1  2  3  4  5  6  7  8  9 10 11 12]\n"
     ]
    }
   ],
   "source": [
    "#ravel\n",
    "b=np.array([[1,2,3,4],[5,6,7,8],[9,10,11,12]])\n",
    "print(b)\n",
    "print(np.ravel(b))"
   ]
  },
  {
   "cell_type": "code",
   "execution_count": 118,
   "id": "b9aad33c",
   "metadata": {},
   "outputs": [
    {
     "name": "stdout",
     "output_type": "stream",
     "text": [
      "4\n",
      "8\n"
     ]
    }
   ],
   "source": [
    "#itemsize\n",
    "c=np.array([[1,2],[3,4],[5,6]],dtype='int32')\n",
    "print(c.itemsize)\n",
    "d=np.array([[1.0,2.0],[3,4],[5,6]])\n",
    "print(d.itemsize)"
   ]
  },
  {
   "cell_type": "code",
   "execution_count": 124,
   "id": "7e42e773",
   "metadata": {},
   "outputs": [
    {
     "name": "stdout",
     "output_type": "stream",
     "text": [
      "1\n",
      "3\n"
     ]
    }
   ],
   "source": [
    "#ndim\n",
    "d=np.array([1,2,3])\n",
    "print(d.ndim)\n",
    "e=np.array([[[1,2,3],[4,5,6]],[[7,8,9],[10,11,2]]])\n",
    "print(e.ndim)"
   ]
  },
  {
   "cell_type": "code",
   "execution_count": 130,
   "id": "31cdab1e",
   "metadata": {},
   "outputs": [
    {
     "name": "stdout",
     "output_type": "stream",
     "text": [
      "[[[[[[[1 2 3]\n",
      "      [6 7 8]]]]]]]\n",
      "7\n"
     ]
    }
   ],
   "source": [
    "#creating high dimensional arrays\n",
    "arr=np.array([[1,2,3],[6,7,8]],ndmin=7)\n",
    "print(arr)\n",
    "print(arr.ndim)"
   ]
  },
  {
   "cell_type": "code",
   "execution_count": 132,
   "id": "6cfe03cd",
   "metadata": {},
   "outputs": [
    {
     "name": "stdout",
     "output_type": "stream",
     "text": [
      "1.20.3\n"
     ]
    }
   ],
   "source": [
    "#version\n",
    "print(np.__version__)"
   ]
  },
  {
   "cell_type": "code",
   "execution_count": 174,
   "id": "930933f6",
   "metadata": {},
   "outputs": [
    {
     "name": "stdout",
     "output_type": "stream",
     "text": [
      "[ 5 10 15 20 25]\n",
      "[0.2 0.4 0.6 0.8 1. ]\n",
      "[ 6  7  8  9 10]\n",
      "[-4 -3 -2 -1  0]\n",
      "[ 2  4  6  8 10]\n",
      "[ 1  4  9 16 25]\n",
      "[1.         0.5        0.33333333 0.25       0.2       ]\n"
     ]
    }
   ],
   "source": [
    "#arithmetic operations\n",
    "arr=np.array([1,2,3,4,5])\n",
    "arr1=arr*5\n",
    "print(arr1)\n",
    "arr2=arr/5\n",
    "print(arr2)\n",
    "arr3=arr+5\n",
    "print(arr3)\n",
    "arr4=arr-5\n",
    "print(arr4)\n",
    "arr5=arr+arr\n",
    "print(arr5)\n",
    "arr6=arr**2\n",
    "print(arr6)\n",
    "arr7=1/arr\n",
    "print(arr7)"
   ]
  },
  {
   "cell_type": "code",
   "execution_count": 171,
   "id": "bbb2291c",
   "metadata": {},
   "outputs": [
    {
     "name": "stdout",
     "output_type": "stream",
     "text": [
      "[b'1.45' b'2.45' b'2.78']\n",
      "[1.45 2.45 2.78]\n"
     ]
    }
   ],
   "source": [
    "k=np.array([1.45,2.45,2.78],dtype=np.string_)\n",
    "print(k)\n",
    "r=k.astype('f')\n",
    "print(r)"
   ]
  },
  {
   "cell_type": "code",
   "execution_count": 179,
   "id": "72376f79",
   "metadata": {},
   "outputs": [
    {
     "name": "stdout",
     "output_type": "stream",
     "text": [
      "[5 6 7 8]\n",
      "[ 0  1  2  3  4  5  6  7  8  9 10 11 12 13 14 15 16 17 18 19]\n"
     ]
    }
   ],
   "source": [
    "#slicing\n",
    "a=np.arange(20)\n",
    "print(a[5:9])\n",
    "print(a[:])"
   ]
  },
  {
   "cell_type": "code",
   "execution_count": 184,
   "id": "96f5fc04",
   "metadata": {},
   "outputs": [
    {
     "name": "stdout",
     "output_type": "stream",
     "text": [
      "[[1 2 3]\n",
      " [3 4 5]\n",
      " [7 8 9]]\n",
      "2\n",
      "2\n",
      "[1 2 3]\n"
     ]
    }
   ],
   "source": [
    "arr=np.array([[1,2,3],[3,4,5],[7,8,9]])\n",
    "print(arr)\n",
    "print(arr[0][1])\n",
    "print(arr[0,1])\n",
    "print(arr[0])"
   ]
  },
  {
   "cell_type": "code",
   "execution_count": 205,
   "id": "4545028d",
   "metadata": {},
   "outputs": [
    {
     "name": "stdout",
     "output_type": "stream",
     "text": [
      "[[[ 1  2]\n",
      "  [ 5  6]]\n",
      "\n",
      " [[ 7  8]\n",
      "  [ 9 10]]]\n",
      "[[1 2]\n",
      " [5 6]]\n",
      "[[[ 9  9]\n",
      "  [ 9  9]]\n",
      "\n",
      " [[ 7  8]\n",
      "  [ 9 10]]]\n",
      "[[[ 1  2]\n",
      "  [ 5  6]]\n",
      "\n",
      " [[ 7  8]\n",
      "  [ 9 10]]]\n"
     ]
    }
   ],
   "source": [
    "a=np.array([[[1,2],[5,6]],[[7,8],[9,10]]])\n",
    "print(a)\n",
    "#print(a.ndim)\n",
    "b=a[0].copy()\n",
    "print(b)\n",
    "a[0]=9\n",
    "print(a)\n",
    "a[0]=b\n",
    "print(a)\n"
   ]
  },
  {
   "cell_type": "code",
   "execution_count": 211,
   "id": "51921533",
   "metadata": {},
   "outputs": [
    {
     "name": "stdout",
     "output_type": "stream",
     "text": [
      "[[ 5  6]\n",
      " [ 9 10]]\n"
     ]
    }
   ],
   "source": [
    "print(a[:,1])"
   ]
  },
  {
   "cell_type": "code",
   "execution_count": 229,
   "id": "08761d1f",
   "metadata": {},
   "outputs": [
    {
     "name": "stdout",
     "output_type": "stream",
     "text": [
      "['lakshmi' 'narsitha' 'yasaswini']\n",
      "[[0.94742216 0.89009317 0.83912721 0.09809036]\n",
      " [0.56060854 0.60160167 0.32209531 0.12724052]\n",
      " [0.33060423 0.92212791 0.88971363 0.03748559]]\n"
     ]
    },
    {
     "data": {
      "text/plain": [
       "array([0.32209531])"
      ]
     },
     "execution_count": 229,
     "metadata": {},
     "output_type": "execute_result"
    }
   ],
   "source": [
    "name=np.array(['lakshmi','narsitha','yasaswini'])\n",
    "print(name)\n",
    "data=np.random.rand(3,4)\n",
    "print(data)\n",
    "data[name=='narsitha',2]"
   ]
  }
 ],
 "metadata": {
  "kernelspec": {
   "display_name": "Python 3 (ipykernel)",
   "language": "python",
   "name": "python3"
  },
  "language_info": {
   "codemirror_mode": {
    "name": "ipython",
    "version": 3
   },
   "file_extension": ".py",
   "mimetype": "text/x-python",
   "name": "python",
   "nbconvert_exporter": "python",
   "pygments_lexer": "ipython3",
   "version": "3.9.7"
  }
 },
 "nbformat": 4,
 "nbformat_minor": 5
}
