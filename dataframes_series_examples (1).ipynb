{
  "nbformat": 4,
  "nbformat_minor": 0,
  "metadata": {
    "colab": {
      "provenance": []
    },
    "kernelspec": {
      "name": "python3",
      "display_name": "Python 3"
    },
    "language_info": {
      "name": "python"
    }
  },
  "cells": [
    {
      "cell_type": "code",
      "execution_count": 1,
      "metadata": {
        "id": "syKUP6boQrNm"
      },
      "outputs": [],
      "source": [
        "import pandas as pd"
      ]
    },
    {
      "cell_type": "code",
      "source": [
        "#1.\tWrite a Pandas program to create and display \n",
        "#a one-dimensional array-like object containing an array of data using Pandas module.\n",
        "a=pd.Series([1,2,3,4])\n",
        "print(a)"
      ],
      "metadata": {
        "colab": {
          "base_uri": "https://localhost:8080/"
        },
        "id": "2kqH7-84Quti",
        "outputId": "ba2bc2c0-dad3-45eb-c417-497fd8f8309a"
      },
      "execution_count": null,
      "outputs": [
        {
          "output_type": "stream",
          "name": "stdout",
          "text": [
            "0    1\n",
            "1    2\n",
            "2    3\n",
            "3    4\n",
            "dtype: int64\n"
          ]
        }
      ]
    },
    {
      "cell_type": "code",
      "source": [
        "#2.\tWrite a pandas program to convert a pandas module series to python list.\n",
        "b=a.tolist()\n",
        "print(b)\n",
        "print(\"type of a : \",type(a))\n",
        "print(\"type of b : \",type(b))"
      ],
      "metadata": {
        "colab": {
          "base_uri": "https://localhost:8080/"
        },
        "id": "4skAVV5sRYfd",
        "outputId": "2cba094b-2e5c-4815-f538-2aa1e4b35bf4"
      },
      "execution_count": null,
      "outputs": [
        {
          "output_type": "stream",
          "name": "stdout",
          "text": [
            "[1, 2, 3, 4]\n",
            "type of a :  <class 'pandas.core.series.Series'>\n",
            "type of b :  <class 'list'>\n"
          ]
        }
      ]
    },
    {
      "cell_type": "code",
      "source": [
        "#3.\tWrite a pandas program to add, subtract, multiple and divide two pandas series.\n",
        "a=pd.Series([1,2,3,4])\n",
        "b=pd.Series([5,6,7,8])\n",
        "print(\"add : \",a+b)   #a.add(b)\n",
        "print(\"sub : \",a-b)   #a.sub(b)\n",
        "print(\"mul : \",a*b)   #a.mul(b)\n",
        "print(\"div : \",a/b)   #a.div(b)"
      ],
      "metadata": {
        "colab": {
          "base_uri": "https://localhost:8080/"
        },
        "id": "1F70iIuyRiLV",
        "outputId": "e7532350-a816-4000-ba24-bba2ade57c9c"
      },
      "execution_count": null,
      "outputs": [
        {
          "output_type": "stream",
          "name": "stdout",
          "text": [
            "add :  0     6\n",
            "1     8\n",
            "2    10\n",
            "3    12\n",
            "dtype: int64\n",
            "sub :  0   -4\n",
            "1   -4\n",
            "2   -4\n",
            "3   -4\n",
            "dtype: int64\n",
            "mul :  0     5\n",
            "1    12\n",
            "2    21\n",
            "3    32\n",
            "dtype: int64\n",
            "div :  0    0.200000\n",
            "1    0.333333\n",
            "2    0.428571\n",
            "3    0.500000\n",
            "dtype: float64\n"
          ]
        }
      ]
    },
    {
      "cell_type": "code",
      "source": [
        "#4.\tWrite a Pandas program to convert all the string values to upper, lower cases in a given pandas series.\n",
        "#Also find the length of the string values.\n",
        "s=pd.Series(['Lakshmi','Narsitha','Yasaswini'])\n",
        "print(\"lower : \\n\",s.str.lower())\n",
        "print(\"upper : \\n\",s.str.upper())\n",
        "print(\"length : \\n\",s.str.len())"
      ],
      "metadata": {
        "colab": {
          "base_uri": "https://localhost:8080/"
        },
        "id": "t59lKeZNSLP_",
        "outputId": "9672c1b3-e606-4154-aa61-db027e0cc793"
      },
      "execution_count": null,
      "outputs": [
        {
          "output_type": "stream",
          "name": "stdout",
          "text": [
            "lower : \n",
            " 0      lakshmi\n",
            "1     narsitha\n",
            "2    yasaswini\n",
            "dtype: object\n",
            "upper : \n",
            " 0      LAKSHMI\n",
            "1     NARSITHA\n",
            "2    YASASWINI\n",
            "dtype: object\n",
            "length : \n",
            " 0    7\n",
            "1    8\n",
            "2    9\n",
            "dtype: int64\n"
          ]
        }
      ]
    },
    {
      "cell_type": "code",
      "source": [
        "#5.\tWrite a Pandas program to remove whitespaces, \n",
        "#left sided whitespaces and right sided whitespaces of the string values of a given pandas series\n",
        "s1=pd.Series(['  Lakshmi ','Yasaswini  ',' Lakshmi  Narsitha  '])\n",
        "print(\"white space removal : \",s1.str.strip())\n",
        "print(\"Left white space removal : \",s1.str.lstrip())\n",
        "print(\"Right white space removal : \",s1.str.rstrip())"
      ],
      "metadata": {
        "colab": {
          "base_uri": "https://localhost:8080/"
        },
        "id": "--uKVuyqTTpf",
        "outputId": "b8a4d00a-de09-44e4-ca64-feb96ab0f208"
      },
      "execution_count": null,
      "outputs": [
        {
          "output_type": "stream",
          "name": "stdout",
          "text": [
            "white space removal :  0              Lakshmi\n",
            "1            Yasaswini\n",
            "2    Lakshmi  Narsitha\n",
            "dtype: object\n",
            "Left white space removal :  0               Lakshmi \n",
            "1            Yasaswini  \n",
            "2    Lakshmi  Narsitha  \n",
            "dtype: object\n",
            "Right white space removal :  0               Lakshmi\n",
            "1             Yasaswini\n",
            "2     Lakshmi  Narsitha\n",
            "dtype: object\n"
          ]
        }
      ]
    },
    {
      "cell_type": "code",
      "source": [
        "#6.\tWrite a Pandas program to create and display a DataFrame consist of student name, father name , mobile number as columns \n",
        "#and register number as index.\n",
        "d={\"names\":['Lakshmi','Narsitha','Yasaswini'],\"father name\":['Pran','Arjun','Vikranth'],\"mobile\":[989898989,898998998,9889122554]}\n",
        "r={\"regno\":[69,777,1111]}\n",
        "df=pd.DataFrame(d,index=r[\"regno\"])\n",
        "print(df)"
      ],
      "metadata": {
        "colab": {
          "base_uri": "https://localhost:8080/"
        },
        "id": "8078U4cBUlKZ",
        "outputId": "04b205d6-7e5f-4185-e37a-bf109e3ad167"
      },
      "execution_count": 16,
      "outputs": [
        {
          "output_type": "stream",
          "name": "stdout",
          "text": [
            "          names father name      mobile\n",
            "69      Lakshmi        Pran   989898989\n",
            "777    Narsitha       Arjun   898998998\n",
            "1111  Yasaswini    Vikranth  9889122554\n"
          ]
        }
      ]
    },
    {
      "cell_type": "code",
      "source": [
        "#7.\tWrite a Pandas program to get list from DataFrame column headers.\n",
        "print(list(df.columns.values))"
      ],
      "metadata": {
        "colab": {
          "base_uri": "https://localhost:8080/"
        },
        "id": "57ni_WQmXGt1",
        "outputId": "0bc5ceed-5ec7-44f7-f4dd-2eb1ccf68caa"
      },
      "execution_count": 12,
      "outputs": [
        {
          "output_type": "stream",
          "name": "stdout",
          "text": [
            "['names', 'father name', 'mobile']\n"
          ]
        }
      ]
    },
    {
      "cell_type": "code",
      "source": [
        "#8.\tWrite a Pandas program to change the name of the student.\n",
        "df1=df.copy()\n",
        "df1['names'][69]=\"Lakshmi Narsitha\"\n",
        "print(df1)"
      ],
      "metadata": {
        "colab": {
          "base_uri": "https://localhost:8080/"
        },
        "id": "SCJrGuy7ZlOn",
        "outputId": "28ab58b7-d0ee-446b-ea93-5058b0257591"
      },
      "execution_count": 18,
      "outputs": [
        {
          "output_type": "stream",
          "name": "stdout",
          "text": [
            "                 names father name      mobile\n",
            "69    Lakshmi Narsitha        Pran   989898989\n",
            "777           Narsitha       Arjun   898998998\n",
            "1111         Yasaswini    Vikranth  9889122554\n"
          ]
        },
        {
          "output_type": "stream",
          "name": "stderr",
          "text": [
            "<ipython-input-18-cea0f595e301>:3: SettingWithCopyWarning: \n",
            "A value is trying to be set on a copy of a slice from a DataFrame\n",
            "\n",
            "See the caveats in the documentation: https://pandas.pydata.org/pandas-docs/stable/user_guide/indexing.html#returning-a-view-versus-a-copy\n",
            "  df1['names'][69]=\"Lakshmi Narsitha\"\n"
          ]
        }
      ]
    },
    {
      "cell_type": "code",
      "source": [
        "#9.\tWrite a Pandas program to insert a new column “grade” in existing DataFrame.\n",
        "g=[10,9.86,10]\n",
        "df.insert(3,\"grade\",g)\n",
        "print(df)"
      ],
      "metadata": {
        "colab": {
          "base_uri": "https://localhost:8080/"
        },
        "id": "IarfwEP-baKQ",
        "outputId": "ade795fd-b447-4bcc-ba95-da098660418d"
      },
      "execution_count": 19,
      "outputs": [
        {
          "output_type": "stream",
          "name": "stdout",
          "text": [
            "          names father name      mobile  grade\n",
            "69      Lakshmi        Pran   989898989  10.00\n",
            "777    Narsitha       Arjun   898998998   9.86\n",
            "1111  Yasaswini    Vikranth  9889122554  10.00\n"
          ]
        }
      ]
    },
    {
      "cell_type": "code",
      "source": [
        "#10.Write a pandas program to create and display a dataframe from a specified dictionary data which has the index labels.\n",
        "l=['a','b','c']\n",
        "df1=pd.DataFrame(d,index=l)\n",
        "print(df1)"
      ],
      "metadata": {
        "colab": {
          "base_uri": "https://localhost:8080/"
        },
        "id": "a-7CZ0ADcV59",
        "outputId": "9b9cbfb2-c1e3-477d-e12d-c2487ee616d0"
      },
      "execution_count": 20,
      "outputs": [
        {
          "output_type": "stream",
          "name": "stdout",
          "text": [
            "       names father name      mobile\n",
            "a    Lakshmi        Pran   989898989\n",
            "b   Narsitha       Arjun   898998998\n",
            "c  Yasaswini    Vikranth  9889122554\n"
          ]
        }
      ]
    }
  ]
}