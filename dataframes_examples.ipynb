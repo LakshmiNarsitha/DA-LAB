{
 "cells": [
  {
   "cell_type": "code",
   "execution_count": 115,
   "id": "9758242e",
   "metadata": {},
   "outputs": [
    {
     "name": "stdout",
     "output_type": "stream",
     "text": [
      "           0   1\n",
      "0    Lakshmi  18\n",
      "1   Narsitha  19\n",
      "2  Yasaswini  20\n"
     ]
    }
   ],
   "source": [
    "#1\n",
    "#•Creating a DataFrame from a list of lists\n",
    "l=[[\"Lakshmi\",18],[\"Narsitha\",19],[\"Yasaswini\",20]]\n",
    "df=pd.DataFrame(l)\n",
    "print(df)"
   ]
  },
  {
   "cell_type": "code",
   "execution_count": 116,
   "id": "ce64b049",
   "metadata": {},
   "outputs": [
    {
     "name": "stdout",
     "output_type": "stream",
     "text": [
      "       names  age\n",
      "0    Lakshmi   18\n",
      "1   Narsitha   19\n",
      "2  Yasaswini   20\n"
     ]
    }
   ],
   "source": [
    "#•Creating a DataFrame from a dict of lists\n",
    "d={\"names\":[\"Lakshmi\",\"Narsitha\",\"Yasaswini\"],\"age\":[18,19,20]}\n",
    "df1=pd.DataFrame(d)\n",
    "print(df1)"
   ]
  },
  {
   "cell_type": "code",
   "execution_count": 117,
   "id": "6f902254",
   "metadata": {},
   "outputs": [
    {
     "name": "stdout",
     "output_type": "stream",
     "text": [
      "        s1        s2\n",
      "0  Lakshmi  Narsitha\n",
      "1       18        19\n"
     ]
    }
   ],
   "source": [
    "##•Creating an index DataFrame from a dict of lists\n",
    "d1=[{\"s1\":\"Lakshmi\",\"s2\":\"Narsitha\"},{\"s1\":18,\"s2\":19}]\n",
    "df2=pd.DataFrame(d1)\n",
    "print(df2)"
   ]
  },
  {
   "cell_type": "code",
   "execution_count": 103,
   "id": "df6ff1d9",
   "metadata": {},
   "outputs": [
    {
     "name": "stdout",
     "output_type": "stream",
     "text": [
      "   age  gpa  sem\n",
      "0   15   10    4\n",
      "2   19    7    5\n",
      "1   17    9    6\n"
     ]
    }
   ],
   "source": [
    "#2.How to sort rows within a pandas dataframe\n",
    "import pandas as pd\n",
    "d={\"age\":[15,17,19],\"gpa\":[10,9,7],\"sem\":[4,6,5]}\n",
    "df=pd.DataFrame(d)\n",
    "df1=df.sort_values(by=[\"sem\"])\n",
    "print(df1)"
   ]
  },
  {
   "cell_type": "code",
   "execution_count": 104,
   "id": "ffbdeed6",
   "metadata": {},
   "outputs": [
    {
     "name": "stdout",
     "output_type": "stream",
     "text": [
      "age    19\n",
      "gpa    10\n",
      "sem     6\n",
      "dtype: int64\n"
     ]
    }
   ],
   "source": [
    "#3.How to find the largest value in a pandas dataframe\n",
    "print(df.max())"
   ]
  },
  {
   "cell_type": "code",
   "execution_count": 105,
   "id": "8e03aade",
   "metadata": {},
   "outputs": [
    {
     "name": "stdout",
     "output_type": "stream",
     "text": [
      "['python' 'java' 'c']\n"
     ]
    }
   ],
   "source": [
    "#4. How to list unique value in a pandas dataframe\n",
    "a={\"course\":[\"python\",\"java\",\"c\",\"c\",\"java\",\"c\",\"java\"],\"sem\":[4,5,6,5,7,5,5]}\n",
    "df2=pd.DataFrame(a)\n",
    "print(df2[\"course\"].unique())"
   ]
  },
  {
   "cell_type": "code",
   "execution_count": 106,
   "id": "5ed34282",
   "metadata": {},
   "outputs": [
    {
     "name": "stdout",
     "output_type": "stream",
     "text": [
      "with duplicates : \n",
      "    course  sem\n",
      "0  python    4\n",
      "1    java    5\n",
      "2       c    6\n",
      "3       c    5\n",
      "4    java    7\n",
      "5       c    5\n",
      "6    java    5\n",
      "without duplicates :\n",
      "    course  sem\n",
      "0  python    4\n",
      "1    java    5\n",
      "2       c    6\n",
      "3       c    5\n",
      "4    java    7\n"
     ]
    }
   ],
   "source": [
    "#5. How to delete duplicates from a pandas dataframe\n",
    "df3=df2.copy()\n",
    "print(\"with duplicates : \\n\",df3)\n",
    "print(\"without duplicates :\\n\",df3.drop_duplicates())"
   ]
  },
  {
   "cell_type": "code",
   "execution_count": 107,
   "id": "9a58d8ec",
   "metadata": {},
   "outputs": [
    {
     "name": "stdout",
     "output_type": "stream",
     "text": [
      "before rename :\n",
      "    course  sem\n",
      "0  python    4\n",
      "1    java    5\n",
      "2       c    6\n",
      "3       c    5\n",
      "4    java    7\n",
      "5       c    5\n",
      "6    java    5\n",
      "after rename :\n",
      "   Programming Languages  semester\n",
      "0                python         4\n",
      "1                  java         5\n",
      "2                     c         6\n",
      "3                     c         5\n",
      "4                  java         7\n",
      "5                     c         5\n",
      "6                  java         5\n"
     ]
    }
   ],
   "source": [
    "#6. Rename column header in a pandas dataframe\n",
    "print(\"before rename :\\n\",df3)\n",
    "t={\"course\":\"Programming Languages\",\"sem\":\"semester\"}\n",
    "df3.rename(columns=t,inplace=True)\n",
    "print(\"after rename :\\n\",df3)"
   ]
  },
  {
   "cell_type": "code",
   "execution_count": 108,
   "id": "414b2b9d",
   "metadata": {},
   "outputs": [
    {
     "name": "stdout",
     "output_type": "stream",
     "text": [
      "  Programming Languages  semester\n",
      "0                   NaN       NaN\n",
      "1                  java       5.0\n",
      "2                   NaN       NaN\n",
      "3                     c       5.0\n",
      "4                   NaN       NaN\n",
      "5                     c       5.0\n",
      "6                  java       5.0\n"
     ]
    }
   ],
   "source": [
    "#7. Search pandas dataframe for a value\n",
    "p=(df3[\"semester\"]==5)\n",
    "df3.where(p,inplace=True)\n",
    "print(df3)"
   ]
  },
  {
   "cell_type": "code",
   "execution_count": 109,
   "id": "16f0bac3",
   "metadata": {},
   "outputs": [
    {
     "name": "stdout",
     "output_type": "stream",
     "text": [
      "   age       name      place\n",
      "0   10    Lakshmi  Hyderabad\n",
      "1   15   Narsitha   Banglore\n",
      "2   17  Yasaswini      Delhi\n",
      "3   18    Srushti     Bhopal\n",
      "4   19      Smita    Chennai\n",
      "droping rows : \n",
      "\n",
      "   age     name      place\n",
      "0   10  Lakshmi  Hyderabad\n",
      "3   18  Srushti     Bhopal\n",
      "4   19    Smita    Chennai\n",
      "dropping columns :\n",
      "\n",
      "   age     name\n",
      "0   10  Lakshmi\n",
      "3   18  Srushti\n",
      "4   19    Smita\n"
     ]
    }
   ],
   "source": [
    "#8. Drop row and column in a pandas dataframe\n",
    "d={\"age\":[10,15,17,18,19],\"name\":[\"Lakshmi\",\"Narsitha\",\"Yasaswini\",\"Srushti\",\"Smita\"],\"place\":[\"Hyderabad\",\"Banglore\",\"Delhi\",\"Bhopal\",\"Chennai\"]}\n",
    "df=pd.DataFrame(d)\n",
    "print(df)\n",
    "print(\"droping rows : \\n\")\n",
    "df.drop([1,2],axis=0,inplace=True)\n",
    "print(df)\n",
    "print(\"dropping columns :\\n\")\n",
    "df.drop(\"place\",axis=1,inplace=True)\n",
    "print(df)"
   ]
  },
  {
   "cell_type": "code",
   "execution_count": 110,
   "id": "28c8648a",
   "metadata": {},
   "outputs": [
    {
     "name": "stdout",
     "output_type": "stream",
     "text": [
      "   age       name      place\n",
      "0   10    Lakshmi  Hyderabad\n",
      "1   15   Narsitha   Banglore\n",
      "2   17  Yasaswini      Delhi\n",
      "3   18    Srushti     Bhopal\n",
      "4   19      Smita    Chennai\n"
     ]
    },
    {
     "data": {
      "text/html": [
       "<div>\n",
       "<style scoped>\n",
       "    .dataframe tbody tr th:only-of-type {\n",
       "        vertical-align: middle;\n",
       "    }\n",
       "\n",
       "    .dataframe tbody tr th {\n",
       "        vertical-align: top;\n",
       "    }\n",
       "\n",
       "    .dataframe thead th {\n",
       "        text-align: right;\n",
       "    }\n",
       "</style>\n",
       "<table border=\"1\" class=\"dataframe\">\n",
       "  <thead>\n",
       "    <tr style=\"text-align: right;\">\n",
       "      <th></th>\n",
       "      <th>age</th>\n",
       "      <th>name</th>\n",
       "      <th>place</th>\n",
       "    </tr>\n",
       "  </thead>\n",
       "  <tbody>\n",
       "    <tr>\n",
       "      <th>0</th>\n",
       "      <td>10</td>\n",
       "      <td>Lakshmi</td>\n",
       "      <td>Hyderabad</td>\n",
       "    </tr>\n",
       "    <tr>\n",
       "      <th>1</th>\n",
       "      <td>15</td>\n",
       "      <td>Narsitha</td>\n",
       "      <td>Banglore</td>\n",
       "    </tr>\n",
       "    <tr>\n",
       "      <th>2</th>\n",
       "      <td>17</td>\n",
       "      <td>Yasaswini</td>\n",
       "      <td>Delhi</td>\n",
       "    </tr>\n",
       "  </tbody>\n",
       "</table>\n",
       "</div>"
      ],
      "text/plain": [
       "   age       name      place\n",
       "0   10    Lakshmi  Hyderabad\n",
       "1   15   Narsitha   Banglore\n",
       "2   17  Yasaswini      Delhi"
      ]
     },
     "execution_count": 110,
     "metadata": {},
     "output_type": "execute_result"
    }
   ],
   "source": [
    "#9. How to filter in a pandas dataframe\n",
    "d={\"age\":[10,15,17,18,19],\"name\":[\"Lakshmi\",\"Narsitha\",\"Yasaswini\",\"Srushti\",\"Smita\"],\"place\":[\"Hyderabad\",\"Banglore\",\"Delhi\",\"Bhopal\",\"Chennai\"]}\n",
    "df=pd.DataFrame(d)\n",
    "print(df)\n",
    "df[0:3]"
   ]
  },
  {
   "cell_type": "code",
   "execution_count": 111,
   "id": "aa2d2b4e",
   "metadata": {},
   "outputs": [
    {
     "name": "stdout",
     "output_type": "stream",
     "text": [
      "   age  marks         mv\n",
      "0   10     90        NaN\n",
      "1   15     99        NaN\n",
      "2   16     98  13.666667\n",
      "3   17     97  16.000000\n",
      "4   18     96  17.000000\n"
     ]
    }
   ],
   "source": [
    "#10. How to calculate moving average in a pandas dataframe\n",
    "import numpy as np\n",
    "d={\"age\":[10,15,16,17,18],\"marks\":[90,99,98,97,96]}\n",
    "df=pd.DataFrame(d)\n",
    "df[\"mv\"]=df[\"age\"].rolling(3).mean()\n",
    "print(df)"
   ]
  },
  {
   "cell_type": "code",
   "execution_count": null,
   "id": "e9d65748",
   "metadata": {},
   "outputs": [],
   "source": [
    "#11. How to normalise a column in a pandas dataframe\n"
   ]
  },
  {
   "cell_type": "code",
   "execution_count": 112,
   "id": "16c3d591",
   "metadata": {},
   "outputs": [
    {
     "name": "stdout",
     "output_type": "stream",
     "text": [
      "   age  marks         mv  sem\n",
      "0   10     90        NaN    4\n",
      "1   15     99        NaN    5\n",
      "2   16     98  13.666667    6\n",
      "3   17     97  16.000000    7\n",
      "4   18     96  17.000000    8\n"
     ]
    }
   ],
   "source": [
    "#12. How to assign new columns in a pandas dataframe\n",
    "df[\"sem\"]=[4,5,6,7,8]\n",
    "print(df)"
   ]
  },
  {
   "cell_type": "code",
   "execution_count": 113,
   "id": "27714b1d",
   "metadata": {},
   "outputs": [
    {
     "name": "stdout",
     "output_type": "stream",
     "text": [
      "   age  marks  sem  rank\n",
      "0   10     90    7   5.0\n",
      "1   15     99    5   1.0\n",
      "2   16     98    6   2.0\n",
      "3   17     97    2   3.0\n",
      "4   18     96    4   4.0\n"
     ]
    }
   ],
   "source": [
    "#13. How to rank a pandas dataframe in ascending and descending order\n",
    "d={\"age\":[10,15,16,17,18],\"marks\":[90,99,98,97,96],\"sem\":[7,5,6,2,4]}\n",
    "df=pd.DataFrame(d)\n",
    "df[\"rank\"]=df[\"marks\"].rank(ascending=False)\n",
    "print(df)"
   ]
  },
  {
   "cell_type": "code",
   "execution_count": 114,
   "id": "eb64eda2",
   "metadata": {},
   "outputs": [
    {
     "name": "stdout",
     "output_type": "stream",
     "text": [
      "   age  marks  sem  rank\n",
      "0   10     90    7   5.0\n",
      "1   15     99    5   1.0\n",
      "2   16     98    6   2.0\n",
      "3   17     97    2   3.0\n",
      "4   18     96    4   4.0\n",
      "5   19     94    5   5.0\n"
     ]
    }
   ],
   "source": [
    "#14.Add row to a DataFrame\n",
    "df.loc[len(df.index)]=[19,94,5,5]\n",
    "print(df)"
   ]
  }
 ],
 "metadata": {
  "kernelspec": {
   "display_name": "Python 3 (ipykernel)",
   "language": "python",
   "name": "python3"
  },
  "language_info": {
   "codemirror_mode": {
    "name": "ipython",
    "version": 3
   },
   "file_extension": ".py",
   "mimetype": "text/x-python",
   "name": "python",
   "nbconvert_exporter": "python",
   "pygments_lexer": "ipython3",
   "version": "3.9.7"
  }
 },
 "nbformat": 4,
 "nbformat_minor": 5
}
